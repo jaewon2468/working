{
 "cells": [
  {
   "cell_type": "code",
   "execution_count": 1,
   "id": "a32e2abf",
   "metadata": {},
   "outputs": [],
   "source": [
    "import pandas as pd\n",
    "import numpy as np\n",
    "from tqdm import tqdm\n",
    "from datetime import datetime, timedelta\n",
    "from glob import glob\n",
    "import matplotlib.pyplot as plt"
   ]
  },
  {
   "cell_type": "code",
   "execution_count": 2,
   "id": "3b5914ff",
   "metadata": {},
   "outputs": [],
   "source": [
    "july = pd.read_csv(\"./집단 분리/월별/analysis/7_analysis.csv\")\n",
    "august = pd.read_csv(\"./집단 분리/월별/analysis/8_analysis.csv\")"
   ]
  },
  {
   "cell_type": "code",
   "execution_count": 3,
   "id": "8238e4e0",
   "metadata": {},
   "outputs": [],
   "source": [
    "# 주말 여부\n",
    "def weekend(x):\n",
    "    if x.dayofweek in [5, 6]:\n",
    "        return 1\n",
    "    else: \n",
    "        return 0"
   ]
  },
  {
   "cell_type": "code",
   "execution_count": 6,
   "id": "d53f3a22",
   "metadata": {},
   "outputs": [],
   "source": [
    "july['create_dt'] = pd.to_datetime(july['create_dt'])\n",
    "august['create_dt'] = pd.to_datetime(august['create_dt'])"
   ]
  },
  {
   "cell_type": "code",
   "execution_count": 8,
   "id": "07c886fd",
   "metadata": {},
   "outputs": [],
   "source": [
    "july['weekend'] = july['create_dt'].apply(weekend)\n",
    "august['weekend'] = august['create_dt'].apply(weekend)"
   ]
  },
  {
   "cell_type": "code",
   "execution_count": 10,
   "id": "66d662ea",
   "metadata": {},
   "outputs": [],
   "source": [
    "july = july[['device_id_deidentification','create_dt','airstate.opmode','humidity','airstate.windstrength','currenttemperature','airstate.tempstate.target','airstate.opmode2','weekend']]\n",
    "august = august[['device_id_deidentification','create_dt','airstate.opmode','humidity','airstate.windstrength','currenttemperature','airstate.tempstate.target','airstate.opmode2','weekend']]"
   ]
  },
  {
   "cell_type": "code",
   "execution_count": 16,
   "id": "a78879a7",
   "metadata": {},
   "outputs": [
    {
     "name": "stderr",
     "output_type": "stream",
     "text": [
      "/tmp/ipykernel_5971/4103349711.py:1: SettingWithCopyWarning: \n",
      "A value is trying to be set on a copy of a slice from a DataFrame.\n",
      "Try using .loc[row_indexer,col_indexer] = value instead\n",
      "\n",
      "See the caveats in the documentation: https://pandas.pydata.org/pandas-docs/stable/user_guide/indexing.html#returning-a-view-versus-a-copy\n",
      "  july['id']=july['device_id_deidentification'].str[8:]\n"
     ]
    }
   ],
   "source": [
    "july['id']=july['device_id_deidentification'].str[8:]\n",
    "august['id']=august['device_id_deidentification'].str[8:]"
   ]
  },
  {
   "cell_type": "code",
   "execution_count": 19,
   "id": "751fd650",
   "metadata": {},
   "outputs": [],
   "source": [
    "july_id=july['id'].unique()\n",
    "august_id=august['id'].unique()"
   ]
  },
  {
   "cell_type": "code",
   "execution_count": 20,
   "id": "1d15d956",
   "metadata": {},
   "outputs": [
    {
     "name": "stdout",
     "output_type": "stream",
     "text": [
      "2246\n",
      "2045\n"
     ]
    }
   ],
   "source": [
    "print(len(july_id))\n",
    "print(len(august_id))"
   ]
  },
  {
   "cell_type": "code",
   "execution_count": 25,
   "id": "06a74da4",
   "metadata": {},
   "outputs": [
    {
     "data": {
      "text/plain": [
       "1447"
      ]
     },
     "execution_count": 25,
     "metadata": {},
     "output_type": "execute_result"
    }
   ],
   "source": [
    "common = set(july_id).intersection(august_id) # 공통 아이디 추출\n",
    "len(common)"
   ]
  },
  {
   "cell_type": "code",
   "execution_count": 26,
   "id": "5eb8942d",
   "metadata": {},
   "outputs": [],
   "source": [
    "july_=july.loc[july['id'].isin(common)]\n",
    "august_=august.loc[august['id'].isin(common)]"
   ]
  },
  {
   "cell_type": "code",
   "execution_count": 29,
   "id": "49c9d462",
   "metadata": {},
   "outputs": [],
   "source": [
    "summer = pd.concat([july_,august_],axis=0)"
   ]
  },
  {
   "cell_type": "code",
   "execution_count": 36,
   "id": "12c63d61",
   "metadata": {},
   "outputs": [],
   "source": [
    "def make_week_df(df): \n",
    "    df_weekend = df.loc[df['weekend']==1]\n",
    "    df_weekday = df.loc[df['weekend']==0]\n",
    "    return df_weekend, df_weekday"
   ]
  },
  {
   "cell_type": "code",
   "execution_count": 39,
   "id": "64afd6ab",
   "metadata": {},
   "outputs": [],
   "source": [
    "def devide_day(df):\n",
    "    df_daytime = df.loc[(df['create_dt'].dt.hour>=9)&(df['create_dt'].dt.hour<=18)]\n",
    "    df_night = df.loc[(df['create_dt'].dt.hour>=19)&(df['create_dt'].dt.hour<=23)]\n",
    "    df_dawn = df.loc[(df['create_dt'].dt.hour>=0)&(df['create_dt'].dt.hour<=8)]\n",
    "    return df_daytime,df_night,df_dawn"
   ]
  },
  {
   "cell_type": "code",
   "execution_count": 76,
   "id": "237eec61",
   "metadata": {},
   "outputs": [],
   "source": [
    "july_weekend, july_weekday = make_week_df(july_)\n",
    "august_weekend, august_weekday = make_week_df(august_)\n",
    "summer_weekend, summer_weekday = make_week_df(summer)"
   ]
  },
  {
   "cell_type": "code",
   "execution_count": 78,
   "id": "107dbaee",
   "metadata": {},
   "outputs": [],
   "source": [
    "july_weekend_daytime, july_weekend_night, july_weekend_dawn = devide_day(july_weekend)\n",
    "july_weekday_daytime, july_weekday_night, july_weekday_dawn = devide_day(july_weekday)\n",
    "\n",
    "august_weekend_daytime, august_weekend_night, august_weekend_dawn = devide_day(august_weekend)\n",
    "august_weekday_daytime, august_weekday_night, august_weekday_dawn = devide_day(august_weekday)\n",
    "\n",
    "summer_weekend_daytime, summer_weekend_night, summer_weekend_dawn = devide_day(summer_weekend)\n",
    "summer_weekday_daytime, summer_weekday_night, summer_weekday_dawn = devide_day(summer_weekday)"
   ]
  },
  {
   "cell_type": "code",
   "execution_count": 79,
   "id": "e19320c8",
   "metadata": {},
   "outputs": [],
   "source": [
    "from scipy.stats import shapiro\n",
    "from scipy.stats import mannwhitneyu\n",
    "from scipy.stats import bartlett\n",
    "from scipy.stats import ttest_ind\n",
    "from statsmodels.stats.proportion import proportions_ztest"
   ]
  },
  {
   "cell_type": "code",
   "execution_count": 80,
   "id": "7cf2356e",
   "metadata": {},
   "outputs": [],
   "source": [
    "def hypothesis_test(df1,df2):\n",
    "\n",
    "    num_col = ['currenttemperature','humidity','airstate.tempstate.target','airstate.windstrength']\n",
    "    category_col = ['airstate.opmode','airstate.opmode2']\n",
    "\n",
    "\n",
    "    for col in num_col:\n",
    "        print(col + \"-> 등분산 검정...\")\n",
    "        k = bartlett(df1[col],df2[col])[1] # 등분산검정\n",
    "        if k < 0.05: # 두 그룹은 이분산성\n",
    "            print('이분산')\n",
    "            print('t test')\n",
    "            if ttest_ind(df1[col],df2[col],equal_var=False)[1] < 0.05:\n",
    "                print(f'두 그룹의 {col} 평균은 같지 않다')\n",
    "            else:\n",
    "                print(f'두 그룹의 {col} 평균은 같다')\n",
    "        else:\n",
    "            print('등분산')\n",
    "            print('t test')\n",
    "            if ttest_ind(df1[col],df2[col],equal_var=True)[1] < 0.05:\n",
    "                print(f'두 그룹의 {col} 평균은 같지 않다')\n",
    "            else:\n",
    "                print(f'두 그룹의 {col} 평균은 같다')\n",
    "                    \n",
    "        print()\n",
    "        \n",
    "    for col in category_col:\n",
    "        print(f'{col}-> proportion_ztest')\n",
    "        len_df1 = len(df1)\n",
    "        len_df2 = len(df2)\n",
    "        count_df1 = sum(df1[col])\n",
    "        count_df2 = sum(df2[col])\n",
    "        \n",
    "        count = np.array([count_df1,count_df2])\n",
    "        nobs = np.array([len_df1,len_df2])\n",
    "        \n",
    "        if proportions_ztest(count=count, nobs=nobs, value=0)[1] < 0.05:\n",
    "            print(f'두 그룹의 {col} 비율은 같지 않다')\n",
    "        else:\n",
    "            print(f'두 그룹의 {col} 비율은 같다')\n",
    "            \n",
    "        print()"
   ]
  },
  {
   "cell_type": "code",
   "execution_count": 71,
   "id": "75fa6ae1",
   "metadata": {},
   "outputs": [
    {
     "name": "stdout",
     "output_type": "stream",
     "text": [
      "currenttemperature-> 등분산 검정...\n",
      "이분산\n",
      "t test\n",
      "두 그룹의 currenttemperature 평균은 같지 않다\n",
      "\n",
      "humidity-> 등분산 검정...\n",
      "이분산\n",
      "t test\n",
      "두 그룹의 humidity 평균은 같지 않다\n",
      "\n",
      "airstate.tempstate.target-> 등분산 검정...\n",
      "이분산\n",
      "t test\n",
      "두 그룹의 airstate.tempstate.target 평균은 같지 않다\n",
      "\n",
      "airstate.windstrength-> 등분산 검정...\n",
      "이분산\n",
      "t test\n",
      "두 그룹의 airstate.windstrength 평균은 같지 않다\n",
      "\n",
      "airstate.opmode-> proportion_ztest\n",
      "두 그룹의 airstate.opmode 비율은 같지 않다\n",
      "\n",
      "airstate.opmode2-> proportion_ztest\n",
      "두 그룹의 airstate.opmode2 비율은 같지 않다\n",
      "\n"
     ]
    }
   ],
   "source": [
    "hypothesis_test(july_weekday_daytime,july_weekend_daytime)"
   ]
  },
  {
   "cell_type": "code",
   "execution_count": 72,
   "id": "2dbd9ff6",
   "metadata": {},
   "outputs": [
    {
     "name": "stdout",
     "output_type": "stream",
     "text": [
      "currenttemperature-> 등분산 검정...\n",
      "이분산\n",
      "t test\n",
      "두 그룹의 currenttemperature 평균은 같다\n",
      "\n",
      "humidity-> 등분산 검정...\n",
      "이분산\n",
      "t test\n",
      "두 그룹의 humidity 평균은 같지 않다\n",
      "\n",
      "airstate.tempstate.target-> 등분산 검정...\n",
      "이분산\n",
      "t test\n",
      "두 그룹의 airstate.tempstate.target 평균은 같지 않다\n",
      "\n",
      "airstate.windstrength-> 등분산 검정...\n",
      "이분산\n",
      "t test\n",
      "두 그룹의 airstate.windstrength 평균은 같지 않다\n",
      "\n",
      "airstate.opmode-> proportion_ztest\n",
      "두 그룹의 airstate.opmode 비율은 같지 않다\n",
      "\n",
      "airstate.opmode2-> proportion_ztest\n",
      "두 그룹의 airstate.opmode2 비율은 같지 않다\n",
      "\n"
     ]
    }
   ],
   "source": [
    "hypothesis_test(july_weekday_night,july_weekend_night)"
   ]
  },
  {
   "cell_type": "code",
   "execution_count": 73,
   "id": "4621f00a",
   "metadata": {},
   "outputs": [
    {
     "name": "stdout",
     "output_type": "stream",
     "text": [
      "currenttemperature-> 등분산 검정...\n",
      "이분산\n",
      "t test\n",
      "두 그룹의 currenttemperature 평균은 같지 않다\n",
      "\n",
      "humidity-> 등분산 검정...\n",
      "이분산\n",
      "t test\n",
      "두 그룹의 humidity 평균은 같지 않다\n",
      "\n",
      "airstate.tempstate.target-> 등분산 검정...\n",
      "등분산\n",
      "t test\n",
      "두 그룹의 airstate.tempstate.target 평균은 같다\n",
      "\n",
      "airstate.windstrength-> 등분산 검정...\n",
      "등분산\n",
      "t test\n",
      "두 그룹의 airstate.windstrength 평균은 같지 않다\n",
      "\n",
      "airstate.opmode-> proportion_ztest\n",
      "두 그룹의 airstate.opmode 비율은 같지 않다\n",
      "\n",
      "airstate.opmode2-> proportion_ztest\n",
      "두 그룹의 airstate.opmode2 비율은 같지 않다\n",
      "\n"
     ]
    }
   ],
   "source": [
    "hypothesis_test(july_weekday_dawn,july_weekend_dawn)"
   ]
  },
  {
   "cell_type": "code",
   "execution_count": 74,
   "id": "33c7d794",
   "metadata": {},
   "outputs": [
    {
     "name": "stdout",
     "output_type": "stream",
     "text": [
      "currenttemperature-> 등분산 검정...\n",
      "등분산\n",
      "t test\n",
      "두 그룹의 currenttemperature 평균은 같다\n",
      "\n",
      "humidity-> 등분산 검정...\n",
      "이분산\n",
      "t test\n",
      "두 그룹의 humidity 평균은 같다\n",
      "\n",
      "airstate.tempstate.target-> 등분산 검정...\n",
      "이분산\n",
      "t test\n",
      "두 그룹의 airstate.tempstate.target 평균은 같지 않다\n",
      "\n",
      "airstate.windstrength-> 등분산 검정...\n",
      "이분산\n",
      "t test\n",
      "두 그룹의 airstate.windstrength 평균은 같지 않다\n",
      "\n",
      "airstate.opmode-> proportion_ztest\n",
      "두 그룹의 airstate.opmode 비율은 같지 않다\n",
      "\n",
      "airstate.opmode2-> proportion_ztest\n",
      "두 그룹의 airstate.opmode2 비율은 같지 않다\n",
      "\n"
     ]
    }
   ],
   "source": [
    "hypothesis_test(august_weekday_daytime,august_weekend_daytime)"
   ]
  },
  {
   "cell_type": "code",
   "execution_count": 75,
   "id": "fe154091",
   "metadata": {},
   "outputs": [
    {
     "name": "stdout",
     "output_type": "stream",
     "text": [
      "currenttemperature-> 등분산 검정...\n",
      "이분산\n",
      "t test\n",
      "두 그룹의 currenttemperature 평균은 같지 않다\n",
      "\n",
      "humidity-> 등분산 검정...\n",
      "이분산\n",
      "t test\n",
      "두 그룹의 humidity 평균은 같다\n",
      "\n",
      "airstate.tempstate.target-> 등분산 검정...\n",
      "이분산\n",
      "t test\n",
      "두 그룹의 airstate.tempstate.target 평균은 같다\n",
      "\n",
      "airstate.windstrength-> 등분산 검정...\n",
      "이분산\n",
      "t test\n",
      "두 그룹의 airstate.windstrength 평균은 같지 않다\n",
      "\n",
      "airstate.opmode-> proportion_ztest\n",
      "두 그룹의 airstate.opmode 비율은 같지 않다\n",
      "\n",
      "airstate.opmode2-> proportion_ztest\n",
      "두 그룹의 airstate.opmode2 비율은 같지 않다\n",
      "\n"
     ]
    }
   ],
   "source": [
    "hypothesis_test(august_weekday_night,august_weekend_night)"
   ]
  },
  {
   "cell_type": "code",
   "execution_count": 81,
   "id": "03b39506",
   "metadata": {},
   "outputs": [
    {
     "name": "stdout",
     "output_type": "stream",
     "text": [
      "currenttemperature-> 등분산 검정...\n",
      "이분산\n",
      "t test\n",
      "두 그룹의 currenttemperature 평균은 같지 않다\n",
      "\n",
      "humidity-> 등분산 검정...\n",
      "이분산\n",
      "t test\n",
      "두 그룹의 humidity 평균은 같지 않다\n",
      "\n",
      "airstate.tempstate.target-> 등분산 검정...\n",
      "이분산\n",
      "t test\n",
      "두 그룹의 airstate.tempstate.target 평균은 같지 않다\n",
      "\n",
      "airstate.windstrength-> 등분산 검정...\n",
      "이분산\n",
      "t test\n",
      "두 그룹의 airstate.windstrength 평균은 같지 않다\n",
      "\n",
      "airstate.opmode-> proportion_ztest\n",
      "두 그룹의 airstate.opmode 비율은 같지 않다\n",
      "\n",
      "airstate.opmode2-> proportion_ztest\n",
      "두 그룹의 airstate.opmode2 비율은 같지 않다\n",
      "\n"
     ]
    }
   ],
   "source": [
    "hypothesis_test(summer_weekday_daytime,summer_weekend_daytime)"
   ]
  },
  {
   "cell_type": "code",
   "execution_count": 82,
   "id": "d76f8194",
   "metadata": {},
   "outputs": [
    {
     "name": "stdout",
     "output_type": "stream",
     "text": [
      "currenttemperature-> 등분산 검정...\n",
      "이분산\n",
      "t test\n",
      "두 그룹의 currenttemperature 평균은 같다\n",
      "\n",
      "humidity-> 등분산 검정...\n",
      "이분산\n",
      "t test\n",
      "두 그룹의 humidity 평균은 같지 않다\n",
      "\n",
      "airstate.tempstate.target-> 등분산 검정...\n",
      "이분산\n",
      "t test\n",
      "두 그룹의 airstate.tempstate.target 평균은 같지 않다\n",
      "\n",
      "airstate.windstrength-> 등분산 검정...\n",
      "이분산\n",
      "t test\n",
      "두 그룹의 airstate.windstrength 평균은 같지 않다\n",
      "\n",
      "airstate.opmode-> proportion_ztest\n",
      "두 그룹의 airstate.opmode 비율은 같지 않다\n",
      "\n",
      "airstate.opmode2-> proportion_ztest\n",
      "두 그룹의 airstate.opmode2 비율은 같지 않다\n",
      "\n"
     ]
    }
   ],
   "source": [
    "hypothesis_test(summer_weekday_night,summer_weekend_night)"
   ]
  },
  {
   "cell_type": "code",
   "execution_count": 83,
   "id": "d658bb06",
   "metadata": {},
   "outputs": [
    {
     "name": "stdout",
     "output_type": "stream",
     "text": [
      "currenttemperature-> 등분산 검정...\n",
      "이분산\n",
      "t test\n",
      "두 그룹의 currenttemperature 평균은 같지 않다\n",
      "\n",
      "humidity-> 등분산 검정...\n",
      "이분산\n",
      "t test\n",
      "두 그룹의 humidity 평균은 같지 않다\n",
      "\n",
      "airstate.tempstate.target-> 등분산 검정...\n",
      "등분산\n",
      "t test\n",
      "두 그룹의 airstate.tempstate.target 평균은 같다\n",
      "\n",
      "airstate.windstrength-> 등분산 검정...\n",
      "이분산\n",
      "t test\n",
      "두 그룹의 airstate.windstrength 평균은 같지 않다\n",
      "\n",
      "airstate.opmode-> proportion_ztest\n",
      "두 그룹의 airstate.opmode 비율은 같지 않다\n",
      "\n",
      "airstate.opmode2-> proportion_ztest\n",
      "두 그룹의 airstate.opmode2 비율은 같지 않다\n",
      "\n"
     ]
    }
   ],
   "source": [
    "hypothesis_test(summer_weekday_dawn,summer_weekend_dawn)"
   ]
  },
  {
   "cell_type": "code",
   "execution_count": 84,
   "id": "2dc92383",
   "metadata": {},
   "outputs": [
    {
     "name": "stdout",
     "output_type": "stream",
     "text": [
      "currenttemperature-> 등분산 검정...\n",
      "이분산\n",
      "t test\n",
      "두 그룹의 currenttemperature 평균은 같다\n",
      "\n",
      "humidity-> 등분산 검정...\n",
      "이분산\n",
      "t test\n",
      "두 그룹의 humidity 평균은 같지 않다\n",
      "\n",
      "airstate.tempstate.target-> 등분산 검정...\n",
      "이분산\n",
      "t test\n",
      "두 그룹의 airstate.tempstate.target 평균은 같지 않다\n",
      "\n",
      "airstate.windstrength-> 등분산 검정...\n",
      "이분산\n",
      "t test\n",
      "두 그룹의 airstate.windstrength 평균은 같지 않다\n",
      "\n",
      "airstate.opmode-> proportion_ztest\n",
      "두 그룹의 airstate.opmode 비율은 같지 않다\n",
      "\n",
      "airstate.opmode2-> proportion_ztest\n",
      "두 그룹의 airstate.opmode2 비율은 같지 않다\n",
      "\n"
     ]
    }
   ],
   "source": [
    "hypothesis_test(july_,august_)"
   ]
  },
  {
   "cell_type": "code",
   "execution_count": 85,
   "id": "2b8a55c8",
   "metadata": {},
   "outputs": [
    {
     "name": "stdout",
     "output_type": "stream",
     "text": [
      "currenttemperature-> 등분산 검정...\n",
      "이분산\n",
      "t test\n",
      "두 그룹의 currenttemperature 평균은 같다\n",
      "\n",
      "humidity-> 등분산 검정...\n",
      "이분산\n",
      "t test\n",
      "두 그룹의 humidity 평균은 같지 않다\n",
      "\n",
      "airstate.tempstate.target-> 등분산 검정...\n",
      "이분산\n",
      "t test\n",
      "두 그룹의 airstate.tempstate.target 평균은 같지 않다\n",
      "\n",
      "airstate.windstrength-> 등분산 검정...\n",
      "이분산\n",
      "t test\n",
      "두 그룹의 airstate.windstrength 평균은 같지 않다\n",
      "\n",
      "airstate.opmode-> proportion_ztest\n",
      "두 그룹의 airstate.opmode 비율은 같지 않다\n",
      "\n",
      "airstate.opmode2-> proportion_ztest\n",
      "두 그룹의 airstate.opmode2 비율은 같지 않다\n",
      "\n"
     ]
    }
   ],
   "source": [
    "hypothesis_test(july_,summer)"
   ]
  },
  {
   "cell_type": "code",
   "execution_count": 86,
   "id": "1f9daba7",
   "metadata": {},
   "outputs": [
    {
     "name": "stdout",
     "output_type": "stream",
     "text": [
      "currenttemperature-> 등분산 검정...\n",
      "이분산\n",
      "t test\n",
      "두 그룹의 currenttemperature 평균은 같다\n",
      "\n",
      "humidity-> 등분산 검정...\n",
      "이분산\n",
      "t test\n",
      "두 그룹의 humidity 평균은 같지 않다\n",
      "\n",
      "airstate.tempstate.target-> 등분산 검정...\n",
      "이분산\n",
      "t test\n",
      "두 그룹의 airstate.tempstate.target 평균은 같지 않다\n",
      "\n",
      "airstate.windstrength-> 등분산 검정...\n",
      "이분산\n",
      "t test\n",
      "두 그룹의 airstate.windstrength 평균은 같지 않다\n",
      "\n",
      "airstate.opmode-> proportion_ztest\n",
      "두 그룹의 airstate.opmode 비율은 같지 않다\n",
      "\n",
      "airstate.opmode2-> proportion_ztest\n",
      "두 그룹의 airstate.opmode2 비율은 같지 않다\n",
      "\n"
     ]
    }
   ],
   "source": [
    "hypothesis_test(august_,summer)"
   ]
  },
  {
   "cell_type": "code",
   "execution_count": 87,
   "id": "31d62d0c",
   "metadata": {},
   "outputs": [
    {
     "name": "stdout",
     "output_type": "stream",
     "text": [
      "currenttemperature-> 등분산 검정...\n",
      "이분산\n",
      "t test\n",
      "두 그룹의 currenttemperature 평균은 같다\n",
      "\n",
      "humidity-> 등분산 검정...\n",
      "이분산\n",
      "t test\n",
      "두 그룹의 humidity 평균은 같지 않다\n",
      "\n",
      "airstate.tempstate.target-> 등분산 검정...\n",
      "이분산\n",
      "t test\n",
      "두 그룹의 airstate.tempstate.target 평균은 같다\n",
      "\n",
      "airstate.windstrength-> 등분산 검정...\n",
      "이분산\n",
      "t test\n",
      "두 그룹의 airstate.windstrength 평균은 같지 않다\n",
      "\n",
      "airstate.opmode-> proportion_ztest\n",
      "두 그룹의 airstate.opmode 비율은 같지 않다\n",
      "\n",
      "airstate.opmode2-> proportion_ztest\n",
      "두 그룹의 airstate.opmode2 비율은 같지 않다\n",
      "\n"
     ]
    }
   ],
   "source": [
    "hypothesis_test(july_weekday,july_weekend)"
   ]
  },
  {
   "cell_type": "code",
   "execution_count": 88,
   "id": "d32188f1",
   "metadata": {},
   "outputs": [
    {
     "name": "stdout",
     "output_type": "stream",
     "text": [
      "currenttemperature-> 등분산 검정...\n",
      "등분산\n",
      "t test\n",
      "두 그룹의 currenttemperature 평균은 같지 않다\n",
      "\n",
      "humidity-> 등분산 검정...\n",
      "이분산\n",
      "t test\n",
      "두 그룹의 humidity 평균은 같지 않다\n",
      "\n",
      "airstate.tempstate.target-> 등분산 검정...\n",
      "이분산\n",
      "t test\n",
      "두 그룹의 airstate.tempstate.target 평균은 같지 않다\n",
      "\n",
      "airstate.windstrength-> 등분산 검정...\n",
      "이분산\n",
      "t test\n",
      "두 그룹의 airstate.windstrength 평균은 같지 않다\n",
      "\n",
      "airstate.opmode-> proportion_ztest\n",
      "두 그룹의 airstate.opmode 비율은 같지 않다\n",
      "\n",
      "airstate.opmode2-> proportion_ztest\n",
      "두 그룹의 airstate.opmode2 비율은 같지 않다\n",
      "\n"
     ]
    }
   ],
   "source": [
    "hypothesis_test(august_weekday,august_weekend)"
   ]
  },
  {
   "cell_type": "code",
   "execution_count": 89,
   "id": "3b513dac",
   "metadata": {},
   "outputs": [
    {
     "name": "stdout",
     "output_type": "stream",
     "text": [
      "currenttemperature-> 등분산 검정...\n",
      "이분산\n",
      "t test\n",
      "두 그룹의 currenttemperature 평균은 같다\n",
      "\n",
      "humidity-> 등분산 검정...\n",
      "이분산\n",
      "t test\n",
      "두 그룹의 humidity 평균은 같지 않다\n",
      "\n",
      "airstate.tempstate.target-> 등분산 검정...\n",
      "이분산\n",
      "t test\n",
      "두 그룹의 airstate.tempstate.target 평균은 같지 않다\n",
      "\n",
      "airstate.windstrength-> 등분산 검정...\n",
      "이분산\n",
      "t test\n",
      "두 그룹의 airstate.windstrength 평균은 같지 않다\n",
      "\n",
      "airstate.opmode-> proportion_ztest\n",
      "두 그룹의 airstate.opmode 비율은 같지 않다\n",
      "\n",
      "airstate.opmode2-> proportion_ztest\n",
      "두 그룹의 airstate.opmode2 비율은 같지 않다\n",
      "\n"
     ]
    }
   ],
   "source": [
    "hypothesis_test(summer_weekday,summer_weekend)"
   ]
  },
  {
   "cell_type": "code",
   "execution_count": null,
   "id": "3710b1c1",
   "metadata": {},
   "outputs": [],
   "source": []
  }
 ],
 "metadata": {
  "kernelspec": {
   "display_name": "Python 3 (ipykernel)",
   "language": "python",
   "name": "python3"
  },
  "language_info": {
   "codemirror_mode": {
    "name": "ipython",
    "version": 3
   },
   "file_extension": ".py",
   "mimetype": "text/x-python",
   "name": "python",
   "nbconvert_exporter": "python",
   "pygments_lexer": "ipython3",
   "version": "3.8.10"
  }
 },
 "nbformat": 4,
 "nbformat_minor": 5
}
